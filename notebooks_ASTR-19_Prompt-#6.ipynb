{
  "metadata": {
    "language_info": {
      "codemirror_mode": {
        "name": "python",
        "version": 3
      },
      "file_extension": ".py",
      "mimetype": "text/x-python",
      "name": "python",
      "nbconvert_exporter": "python",
      "pygments_lexer": "ipython3",
      "version": "3.8"
    },
    "kernelspec": {
      "name": "python",
      "display_name": "Python (Pyodide)",
      "language": "python"
    }
  },
  "nbformat_minor": 4,
  "nbformat": 4,
  "cells": [
    {
      "cell_type": "code",
      "source": "import numpy as np \n\ndef sin_f(x):\n      return np.sin(x)",
      "metadata": {
        "tags": [],
        "trusted": true
      },
      "execution_count": 1,
      "outputs": []
    },
    {
      "cell_type": "markdown",
      "source": "the fucntion 'sin_f(x)' returns the sine angle 'x' in radians ",
      "metadata": {}
    },
    {
      "cell_type": "code",
      "source": "def cos_f(x):\n    return np.cos(x)",
      "metadata": {
        "trusted": true
      },
      "execution_count": 2,
      "outputs": []
    },
    {
      "cell_type": "markdown",
      "source": "The fucntion 'cos_f(x)' returns the cosine angle 'x' in radians ",
      "metadata": {}
    },
    {
      "cell_type": "code",
      "source": "x_values = np.linspace(0, 2, 1000)\nsin_values = [sin_f(x) for x in x_values]\ncos_values = [cos_f(x) for x in x_values]",
      "metadata": {
        "trusted": true
      },
      "execution_count": 3,
      "outputs": []
    },
    {
      "cell_type": "markdown",
      "source": "this cell tabualtes values of x, sin(x), and cos(x) for 1000 points between 0 and 2 ",
      "metadata": {}
    },
    {
      "cell_type": "code",
      "source": "print(\"x|sin(x)|cos(x)\")\nfor i in range(10):\n    print(f\"{x_values[i]:.4f}|{sin_values[i]:.4f}|{cos_values[i]:.4f}\")",
      "metadata": {
        "trusted": true
      },
      "execution_count": 4,
      "outputs": [
        {
          "name": "stdout",
          "text": "x|sin(x)|cos(x)\n0.0000|0.0000|1.0000\n0.0020|0.0020|1.0000\n0.0040|0.0040|1.0000\n0.0060|0.0060|1.0000\n0.0080|0.0080|1.0000\n0.0100|0.0100|0.9999\n0.0120|0.0120|0.9999\n0.0140|0.0140|0.9999\n0.0160|0.0160|0.9999\n0.0180|0.0180|0.9998\n",
          "output_type": "stream"
        }
      ]
    },
    {
      "cell_type": "markdown",
      "source": "This cell prints the first 10 values of x, sin(x), cos(x), in a tabular form ",
      "metadata": {}
    }
  ]
}